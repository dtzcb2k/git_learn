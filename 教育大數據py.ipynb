{
  "nbformat": 4,
  "nbformat_minor": 0,
  "metadata": {
    "colab": {
      "provenance": [],
      "authorship_tag": "ABX9TyMbriuCkDvUKYJqmCyxdFv2",
      "include_colab_link": true
    },
    "kernelspec": {
      "name": "python3",
      "display_name": "Python 3"
    },
    "language_info": {
      "name": "python"
    }
  },
  "cells": [
    {
      "cell_type": "markdown",
      "metadata": {
        "id": "view-in-github",
        "colab_type": "text"
      },
      "source": [
        "<a href=\"https://colab.research.google.com/github/dtzcb2k/git_learn/blob/main/%E6%95%99%E8%82%B2%E5%A4%A7%E6%95%B8%E6%93%9Apy.ipynb\" target=\"_parent\"><img src=\"https://colab.research.google.com/assets/colab-badge.svg\" alt=\"Open In Colab\"/></a>"
      ]
    },
    {
      "cell_type": "code",
      "execution_count": null,
      "metadata": {
        "colab": {
          "base_uri": "https://localhost:8080/"
        },
        "id": "Ve9yqpJtsjjV",
        "outputId": "450f5cc7-ec69-4f84-9add-1e605b728c5b"
      },
      "outputs": [
        {
          "output_type": "stream",
          "name": "stdout",
          "text": [
            "12\n"
          ]
        }
      ],
      "source": [
        "import pandas as pd\n",
        "df = pd.read_csv('/content/edu_bigdata_imp1.csv', encoding='UTF-8',low_memory=False)\n",
        "df_filtered = df[df['PseudoID'] == 39]\n",
        "unique_values = df_filtered['dp001_review_sn'].unique()\n",
        "print(len(unique_values))"
      ]
    },
    {
      "cell_type": "code",
      "source": [
        "import pandas as pd\n",
        "df = pd.read_csv('/content/edu_bigdata_imp1.csv', encoding='UTF-8',low_memory=False)\n",
        "df_filtered = df[df['PseudoID'] == 39]\n",
        "df_filtered = df_filtered.dropna(subset = ['dp001_question_sn'])\n",
        "unique_values = df_filtered['dp001_question_sn'].unique()\n",
        "print(len(unique_values))"
      ],
      "metadata": {
        "colab": {
          "base_uri": "https://localhost:8080/"
        },
        "id": "gWl2YOyV07eX",
        "outputId": "15551cc8-c1f9-4a39-e909-34cfa5bae16c"
      },
      "execution_count": null,
      "outputs": [
        {
          "output_type": "stream",
          "name": "stdout",
          "text": [
            "3\n"
          ]
        }
      ]
    },
    {
      "cell_type": "code",
      "source": [
        "import pandas as pd\n",
        "df = pd.read_csv('/content/edu_bigdata_imp1.csv', encoding='UTF-8',low_memory=False)\n",
        "df_filtered = df[df['PseudoID'] == 281]\n",
        "#去掉NaN\n",
        "unique_indicator = df_filtered.dropna(subset=['dp001_indicator'])\n",
        "#duplicates複製，去除重複項\n",
        "df_unique = df_filtered.drop_duplicates(subset='dp001_video_item_sn')\n",
        "#將輸出的資料限制在需要的欄位\n",
        "print(df_unique[['dp001_video_item_sn','dp001_indicator']])"
      ],
      "metadata": {
        "colab": {
          "base_uri": "https://localhost:8080/"
        },
        "id": "w_sN0Vtj23Hv",
        "outputId": "3b8cf67e-f6af-421a-9df5-8263249cc70a"
      },
      "execution_count": null,
      "outputs": [
        {
          "output_type": "stream",
          "name": "stdout",
          "text": [
            "        dp001_video_item_sn dp001_indicator\n",
            "220121                513.0       111-3a-01\n",
            "220165              10044.0       111-3a-02\n",
            "220217               1087.0      5-n-10-S01\n"
          ]
        }
      ]
    },
    {
      "cell_type": "code",
      "source": [
        "import pandas as pd\n",
        "df = pd.read_csv('/content/edu_bigdata_imp1.csv', encoding='UTF-8',low_memory=False)\n",
        "df_filtered = df[(df['PseudoID'] == 281)&(df['dp001_prac_score_rate']==100)]\n",
        "\n",
        "print(len(df_filtered))"
      ],
      "metadata": {
        "id": "_1KRQzeyv-b3",
        "colab": {
          "base_uri": "https://localhost:8080/"
        },
        "outputId": "9711c52d-ec34-4e49-c1c6-2ffc9e52fd2b"
      },
      "execution_count": null,
      "outputs": [
        {
          "output_type": "stream",
          "name": "stdout",
          "text": [
            "346\n"
          ]
        }
      ]
    },
    {
      "cell_type": "code",
      "source": [
        "import pandas as pd\n",
        "df = pd.read_csv('/content/edu_bigdata_imp1.csv', encoding='UTF-8',low_memory=False)\n",
        "df_filtered = df[(df['PseudoID'] == 71)&(df['dp001_record_plus_view_action'] == 'paused')]\n",
        "print(len(df_filtered))"
      ],
      "metadata": {
        "colab": {
          "base_uri": "https://localhost:8080/"
        },
        "id": "0tiTNgVwh_Kw",
        "outputId": "d719143e-0dbb-44e9-cd33-ee827ad5605d"
      },
      "execution_count": null,
      "outputs": [
        {
          "output_type": "stream",
          "name": "stdout",
          "text": [
            "578\n"
          ]
        }
      ]
    },
    {
      "cell_type": "code",
      "source": [
        "from pandas.core.tools.datetimes import to_datetime\n",
        "import pandas as pd\n",
        "df = pd.read_csv('/content/edu_bigdata_imp1.csv', encoding='UTF-8',low_memory=False)\n",
        "df_filtered = df[(df['PseudoID'] == 71)]\n",
        "#轉換成日期(有時間的)\n",
        "date = to_datetime(df_filtered['dp001_review_start_time'])\n",
        "#傳換成日期(沒有時間的)\n",
        "unique_date = date.dt.date.drop_duplicates()\n",
        "print(unique_date)"
      ],
      "metadata": {
        "colab": {
          "base_uri": "https://localhost:8080/"
        },
        "id": "pXKsI9wPl8N7",
        "outputId": "1f24d8f9-7663-4464-af63-f19c26892e89"
      },
      "execution_count": null,
      "outputs": [
        {
          "output_type": "stream",
          "name": "stdout",
          "text": [
            "111278    2022-08-19\n",
            "112485    2022-09-16\n",
            "112536    2022-08-21\n",
            "Name: dp001_review_start_time, dtype: object\n"
          ]
        }
      ]
    },
    {
      "cell_type": "code",
      "source": [
        "import pandas as pd\n",
        "df = pd.read_csv('/content/edu_bigdata_imp1.csv', encoding='UTF-8',low_memory=False)\n",
        "df_filtered = df['dp001_review_sn'].value_counts()\n",
        "df_max = df_filtered.idxmax()\n",
        "\n",
        "print(int(df_max))"
      ],
      "metadata": {
        "id": "anmOOGL3qgwO",
        "colab": {
          "base_uri": "https://localhost:8080/"
        },
        "outputId": "b80e69b1-0189-442f-90d1-ecd3a790840b"
      },
      "execution_count": null,
      "outputs": [
        {
          "output_type": "stream",
          "name": "stdout",
          "text": [
            "11043810\n"
          ]
        }
      ]
    },
    {
      "cell_type": "code",
      "source": [
        "import pandas as pd\n",
        "df = pd.read_csv('/content/edu_bigdata_imp1.csv', encoding='UTF-8',low_memory=False)\n",
        "df_filtered = df[df['dp002_extensions_alignment'] == '[\"十二年國民基本教育類\"]']\n",
        "print(len(df_filtered))"
      ],
      "metadata": {
        "colab": {
          "base_uri": "https://localhost:8080/"
        },
        "id": "UXCCF2sx6jEs",
        "outputId": "ca604b66-cca7-49ee-a1fe-7c23ba4abc76"
      },
      "execution_count": null,
      "outputs": [
        {
          "output_type": "stream",
          "name": "stdout",
          "text": [
            "229\n"
          ]
        }
      ]
    },
    {
      "cell_type": "code",
      "source": [
        "import pandas as pd\n",
        "df = pd.read_csv('/content/edu_bigdata_imp1.csv', encoding='UTF-8',low_memory=False)\n",
        "df_filtered = df.dropna(subset=['dp002_verb_display_zh_TW'])\n",
        "#原本的value_counts()會是將重點擺放在有幾筆(int)上，而在後面加上.index則是讓重點擺放在前面的string上，形成string的集合\n",
        "df_display_count = df_filtered['dp002_verb_display_zh_TW'].value_counts().index\n",
        "for i in range(3):\n",
        "  print(df_display_count[i])\n"
      ],
      "metadata": {
        "colab": {
          "base_uri": "https://localhost:8080/"
        },
        "id": "dHWSWLPM850N",
        "outputId": "777d2310-1252-46a0-a91a-503a7584a0ec"
      },
      "execution_count": null,
      "outputs": [
        {
          "output_type": "stream",
          "name": "stdout",
          "text": [
            "查看\n",
            "查詢參考\n",
            "下載\n"
          ]
        }
      ]
    },
    {
      "cell_type": "code",
      "source": [
        "import pandas as pd\n",
        "df = pd.read_csv('/content/edu_bigdata_imp1.csv', encoding='UTF-8',low_memory=False)\n",
        "df_filtered = df[df['dp002_extensions_alignment'] == '[\"校園職業安全\"]']\n",
        "print(len(df_filtered))"
      ],
      "metadata": {
        "colab": {
          "base_uri": "https://localhost:8080/"
        },
        "id": "0McVq14RBNRZ",
        "outputId": "1d830699-3fe2-4a2f-a0a4-9d019b36a4c9"
      },
      "execution_count": null,
      "outputs": [
        {
          "output_type": "stream",
          "name": "stdout",
          "text": [
            "5375\n"
          ]
        }
      ]
    }
  ]
}